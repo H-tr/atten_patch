{
 "cells": [
  {
   "cell_type": "code",
   "execution_count": null,
   "metadata": {},
   "outputs": [],
   "source": [
    "import os\n",
    "\n",
    "config_file: str = \"pretrained_models/segformer_mit-b4_8xb2-160k_ade20k-512x512.py\"\n",
    "checkpoint_file: str = \"pretrained_models/segformer_mit-b4_512x512_160k_ade20k_20210728_183055-7f509d7d.pth\"\n",
    "\n",
    "source_dir = \"demo_img/0000007.jpg\"\n",
    "save_dir = \"outputs/segmentation\"\n",
    "if not os.path.exists(save_dir):\n",
    "    os.makedirs(save_dir)"
   ]
  },
  {
   "cell_type": "code",
   "execution_count": null,
   "metadata": {},
   "outputs": [],
   "source": [
    "from segmentation.inference import Segmentor\n",
    "from tqdm.notebook import tqdm\n",
    "\n",
    "segmentor = Segmentor(config_file, checkpoint_file, save_dir, device=\"cuda:0\")\n",
    "segmentor.inference(source_dir)"
   ]
  }
 ],
 "metadata": {
  "kernelspec": {
   "display_name": "atten_patch",
   "language": "python",
   "name": "python3"
  },
  "language_info": {
   "codemirror_mode": {
    "name": "ipython",
    "version": 3
   },
   "file_extension": ".py",
   "mimetype": "text/x-python",
   "name": "python",
   "nbconvert_exporter": "python",
   "pygments_lexer": "ipython3",
   "version": "3.10.13"
  }
 },
 "nbformat": 4,
 "nbformat_minor": 2
}
